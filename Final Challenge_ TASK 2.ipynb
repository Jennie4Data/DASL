{
 "cells": [
  {
   "cell_type": "markdown",
   "id": "38abdb91",
   "metadata": {},
   "source": [
    "## TASK 2"
   ]
  },
  {
   "cell_type": "code",
   "execution_count": 95,
   "id": "f9843631",
   "metadata": {},
   "outputs": [],
   "source": [
    "#Importation of the neccessary libraries\n",
    "import pandas as pd\n",
    "import matplotlib.pyplot as plt\n",
    "import seaborn as sns\n",
    "import numpy as np\n",
    "import re\n",
    "from scipy.stats import mode\n",
    "import datetime\n",
    "from scipy.stats import ttest_ind\n",
    "import matplotlib.cm as cm"
   ]
  },
  {
   "cell_type": "markdown",
   "id": "c186dac6",
   "metadata": {},
   "source": [
    "### Understanding the structure of each data set provided\n"
   ]
  },
  {
   "cell_type": "code",
   "execution_count": 5,
   "id": "084b40fe",
   "metadata": {},
   "outputs": [],
   "source": [
    "#loading the data into python\n",
    "Task2=pd.read_csv('C:/Users/jennifer.okeke/Downloads/Final_Challenge/QVI_data.csv')"
   ]
  },
  {
   "cell_type": "code",
   "execution_count": 6,
   "id": "d7eb77a0",
   "metadata": {},
   "outputs": [
    {
     "name": "stdout",
     "output_type": "stream",
     "text": [
      "Index(['LYLTY_CARD_NBR', 'DATE', 'STORE_NBR', 'TXN_ID', 'PROD_NBR',\n",
      "       'PROD_NAME', 'PROD_QTY', 'TOT_SALES', 'PACK_SIZE', 'BRAND', 'LIFESTAGE',\n",
      "       'PREMIUM_CUSTOMER'],\n",
      "      dtype='object')\n"
     ]
    }
   ],
   "source": [
    "print(Task2.columns)"
   ]
  },
  {
   "cell_type": "code",
   "execution_count": 7,
   "id": "fb0e4c77",
   "metadata": {},
   "outputs": [],
   "source": [
    "#Rename specific columns\n",
    "Task2.rename(columns={'DATE': 'Date', 'STORE_NBR': 'Store_Number', 'LYLTY_CARD_NBR': 'Customer_Card_Number', 'TXN_ID': 'Purchase_ID', 'PROD_NBR': 'Product_Number', 'PROD_NAME': 'Product_Name',  'PROD_QTY': 'Production_Quantity', 'TOT_SALES': 'Total_Sales($)', 'PACK_SIZE': 'Packet_Size', 'BRAND':'Brand','LIFESTAGE':'LifeStage', 'PREMIUM_CUSTOMER':'Purchase_Plan'}, inplace=True)\n"
   ]
  },
  {
   "cell_type": "code",
   "execution_count": 24,
   "id": "3909f35a",
   "metadata": {},
   "outputs": [
    {
     "name": "stdout",
     "output_type": "stream",
     "text": [
      "<class 'pandas.core.frame.DataFrame'>\n",
      "RangeIndex: 264834 entries, 0 to 264833\n",
      "Data columns (total 12 columns):\n",
      " #   Column                Non-Null Count   Dtype  \n",
      "---  ------                --------------   -----  \n",
      " 0   Customer_Card_Number  264834 non-null  int64  \n",
      " 1   Date                  264834 non-null  object \n",
      " 2   Store_Number          264834 non-null  int64  \n",
      " 3   Purchase_ID           264834 non-null  int64  \n",
      " 4   Product_Number        264834 non-null  int64  \n",
      " 5   Product_Name          264834 non-null  object \n",
      " 6   Production_Quantity   264834 non-null  int64  \n",
      " 7   Total_Sales($)        264834 non-null  float64\n",
      " 8   Packet_Size           264834 non-null  int64  \n",
      " 9   Brand                 264834 non-null  object \n",
      " 10  LifeStage             264834 non-null  object \n",
      " 11  Purchase_Plan         264834 non-null  object \n",
      "dtypes: float64(1), int64(6), object(5)\n",
      "memory usage: 24.2+ MB\n",
      "None\n"
     ]
    }
   ],
   "source": [
    "#Get information about the columns and data types\n",
    "print(Task2.info())"
   ]
  },
  {
   "cell_type": "code",
   "execution_count": 8,
   "id": "34f6464b",
   "metadata": {},
   "outputs": [
    {
     "name": "stdout",
     "output_type": "stream",
     "text": [
      "   Customer_Card_Number        Date  Store_Number  Purchase_ID  \\\n",
      "0                  1000  2018-10-17             1            1   \n",
      "1                  1002  2018-09-16             1            2   \n",
      "2                  1003  2019-03-07             1            3   \n",
      "3                  1003  2019-03-08             1            4   \n",
      "4                  1004  2018-11-02             1            5   \n",
      "\n",
      "   Product_Number                            Product_Name  \\\n",
      "0               5  Natural Chip        Compny SeaSalt175g   \n",
      "1              58   Red Rock Deli Chikn&Garlic Aioli 150g   \n",
      "2              52   Grain Waves Sour    Cream&Chives 210G   \n",
      "3             106  Natural ChipCo      Hony Soy Chckn175g   \n",
      "4              96          WW Original Stacked Chips 160g   \n",
      "\n",
      "   Production_Quantity  Total_Sales($)  Packet_Size       Brand  \\\n",
      "0                    2             6.0          175     NATURAL   \n",
      "1                    1             2.7          150         RRD   \n",
      "2                    1             3.6          210     GRNWVES   \n",
      "3                    1             3.0          175     NATURAL   \n",
      "4                    1             1.9          160  WOOLWORTHS   \n",
      "\n",
      "               LifeStage Purchase_Plan  \n",
      "0  YOUNG SINGLES/COUPLES       Premium  \n",
      "1  YOUNG SINGLES/COUPLES    Mainstream  \n",
      "2         YOUNG FAMILIES        Budget  \n",
      "3         YOUNG FAMILIES        Budget  \n",
      "4  OLDER SINGLES/COUPLES    Mainstream  \n"
     ]
    }
   ],
   "source": [
    "#See the first few rows of the DataFrame\n",
    "print(Task2.head())"
   ]
  },
  {
   "cell_type": "code",
   "execution_count": 10,
   "id": "1c3570af",
   "metadata": {},
   "outputs": [
    {
     "name": "stdout",
     "output_type": "stream",
     "text": [
      "Number of rows: 264834\n",
      "Number of columns: 12\n"
     ]
    }
   ],
   "source": [
    "#Get the number of rows and columns\n",
    "num_rows = Task2.shape[0]\n",
    "num_cols = Task2.shape[1]\n",
    "\n",
    "#Print the number of rows and columns\n",
    "print(\"Number of rows:\", num_rows)\n",
    "print(\"Number of columns:\", num_cols)"
   ]
  },
  {
   "cell_type": "code",
   "execution_count": 11,
   "id": "4e5ec356",
   "metadata": {},
   "outputs": [
    {
     "name": "stdout",
     "output_type": "stream",
     "text": [
      "Customer_Card_Number    0\n",
      "Date                    0\n",
      "Store_Number            0\n",
      "Purchase_ID             0\n",
      "Product_Number          0\n",
      "Product_Name            0\n",
      "Production_Quantity     0\n",
      "Total_Sales($)          0\n",
      "Packet_Size             0\n",
      "Brand                   0\n",
      "LifeStage               0\n",
      "Purchase_Plan           0\n",
      "dtype: int64\n"
     ]
    }
   ],
   "source": [
    "#Count the number of missing values in each column\n",
    "print(Task2.isnull().sum())"
   ]
  },
  {
   "cell_type": "code",
   "execution_count": 12,
   "id": "58c9a141",
   "metadata": {},
   "outputs": [
    {
     "name": "stdout",
     "output_type": "stream",
     "text": [
      "Customer_Card_Number    264834\n",
      "Date                    264834\n",
      "Store_Number            264834\n",
      "Purchase_ID             264834\n",
      "Product_Number          264834\n",
      "Product_Name            264834\n",
      "Production_Quantity     264834\n",
      "Total_Sales($)          264834\n",
      "Packet_Size             264834\n",
      "Brand                   264834\n",
      "LifeStage               264834\n",
      "Purchase_Plan           264834\n",
      "dtype: int64\n"
     ]
    }
   ],
   "source": [
    "#Count the number of missing values in each column\n",
    "print(Task2.notnull().sum())"
   ]
  },
  {
   "cell_type": "markdown",
   "id": "9564ea92",
   "metadata": {},
   "source": [
    "### Determining Control Stores"
   ]
  },
  {
   "cell_type": "code",
   "execution_count": 38,
   "id": "22bd2547",
   "metadata": {
    "scrolled": true
   },
   "outputs": [
    {
     "name": "stdout",
     "output_type": "stream",
     "text": [
      "Store_Number\n",
      "1       2393.60\n",
      "2       2005.80\n",
      "3      12802.45\n",
      "4      14647.65\n",
      "5       9500.80\n",
      "         ...   \n",
      "268     2601.05\n",
      "269    11221.80\n",
      "270    11293.95\n",
      "271     9721.80\n",
      "272     4653.95\n",
      "Name: Total_Sales($), Length: 272, dtype: float64\n"
     ]
    }
   ],
   "source": [
    "#To find control store stores, we need to first find the Total sales from each store-\n",
    "total_sales_by_store = Task2.groupby('Store_Number')['Total_Sales($)'].sum()\n",
    "print(total_sales_by_store)"
   ]
  },
  {
   "cell_type": "code",
   "execution_count": 56,
   "id": "e2810e33",
   "metadata": {},
   "outputs": [
    {
     "name": "stdout",
     "output_type": "stream",
     "text": [
      "Store_Number\n",
      "1         720905\n",
      "2        1135736\n",
      "3        4779490\n",
      "4        7025622\n",
      "5        6964664\n",
      "         ...    \n",
      "268    146463848\n",
      "269    432483003\n",
      "270    440291831\n",
      "271    375501918\n",
      "272    153249277\n",
      "Name: Customer_Card_Number, Length: 272, dtype: int64\n"
     ]
    }
   ],
   "source": [
    "#customer count for each store\n",
    "total_sales_by_store = Task2.groupby('Store_Number')['Customer_Card_Number'].sum()\n",
    "print(total_sales_by_store)"
   ]
  },
  {
   "cell_type": "code",
   "execution_count": 58,
   "id": "2ecd038b",
   "metadata": {},
   "outputs": [
    {
     "name": "stdout",
     "output_type": "stream",
     "text": [
      "Store_Number\n",
      "1      4.0\n",
      "2      4.0\n",
      "3      9.0\n",
      "4      9.0\n",
      "5      7.0\n",
      "      ... \n",
      "268    5.0\n",
      "269    7.0\n",
      "270    7.0\n",
      "271    7.0\n",
      "272    8.0\n",
      "Name: Total_Sales($), Length: 272, dtype: float64\n"
     ]
    }
   ],
   "source": [
    "#average sales from each store\n",
    "total_sales_by_store = Task2.groupby('Store_Number')['Total_Sales($)'].mean()\n",
    "print(round(total_sales_by_store))"
   ]
  },
  {
   "cell_type": "code",
   "execution_count": 60,
   "id": "1ee8fa42",
   "metadata": {},
   "outputs": [],
   "source": [
    "# Change the data type of Store_Number to string\n",
    "Task2['Store_Number'] =Task2['Store_Number'].astype(str)\n"
   ]
  },
  {
   "cell_type": "code",
   "execution_count": 73,
   "id": "548174cf",
   "metadata": {},
   "outputs": [
    {
     "name": "stdout",
     "output_type": "stream",
     "text": [
      "Sales Share by Store:\n",
      "Store_Number\n",
      "1      0.001238\n",
      "10     0.005329\n",
      "100    0.006120\n",
      "101    0.005213\n",
      "102    0.005401\n",
      "         ...   \n",
      "95     0.007198\n",
      "96     0.002269\n",
      "97     0.005396\n",
      "98     0.000822\n",
      "99     0.000115\n",
      "Name: Total_Sales($), Length: 272, dtype: float64\n"
     ]
    }
   ],
   "source": [
    "#Finding the control store based on the sales share for the total sales of each store.\n",
    "# Calculate total sales for each store\n",
    "total_sales_by_store = Task2.groupby('Store_Number')['Total_Sales($)'].sum()\n",
    "\n",
    "# Calculate sales share for each store\n",
    "sales_share_by_store = total_sales_by_store / total_sales_by_store.sum()\n",
    "\n",
    "# Print the sales share for each store\n",
    "print(\"Sales Share by Store:\")\n",
    "print(sales_share_by_store)"
   ]
  },
  {
   "cell_type": "code",
   "execution_count": 77,
   "id": "a526facb",
   "metadata": {},
   "outputs": [
    {
     "name": "stdout",
     "output_type": "stream",
     "text": [
      "Median Sales Share:\n",
      "0.0030896377090861124\n",
      "Store(s) with Closest Sales Share to Median:\n",
      "['202', '246']\n"
     ]
    }
   ],
   "source": [
    "#Then finding the store which had the most frequency in terms of share to serve as the control store.\n",
    "# Calculate total sales for each store\n",
    "total_sales_by_store = Task2.groupby('Store_Number')['Total_Sales($)'].sum()\n",
    "\n",
    "# Calculate sales share for each store\n",
    "sales_share_by_store = total_sales_by_store / total_sales_by_store.sum()\n",
    "\n",
    "# Find the median of sales share\n",
    "median_sales_share = sales_share_by_store.median()\n",
    "\n",
    "# Find the difference between sales share and median sales share\n",
    "difference_from_median = abs(sales_share_by_store - median_sales_share)\n",
    "\n",
    "# Find the store(s) with the sales share closest to the median\n",
    "stores_with_closest_sales_share = difference_from_median[difference_from_median == difference_from_median.min()].index.tolist()\n",
    "\n",
    "# Print the median sales share and the corresponding store(s)\n",
    "print(\"Median Sales Share:\")\n",
    "print(median_sales_share)\n",
    "print(\"Store(s) with Closest Sales Share to Median:\")\n",
    "print(stores_with_closest_sales_share)"
   ]
  },
  {
   "cell_type": "code",
   "execution_count": 67,
   "id": "80e2dfaf",
   "metadata": {},
   "outputs": [
    {
     "name": "stdout",
     "output_type": "stream",
     "text": [
      "['1' '2' '3' '4' '5' '6' '7' '8' '9' '10' '11' '12' '13' '14' '15' '16'\n",
      " '17' '18' '19' '20' '21' '22' '23' '24' '25' '26' '27' '28' '29' '30'\n",
      " '31' '32' '33' '34' '35' '36' '37' '38' '39' '40' '41' '42' '43' '44'\n",
      " '45' '46' '47' '48' '49' '50' '51' '52' '53' '54' '55' '56' '57' '58'\n",
      " '59' '60' '61' '62' '63' '64' '65' '66' '67' '68' '69' '70' '71' '72'\n",
      " '73' '74' '75' '76' '77' '78' '79' '80' '81' '82' '83' '84' '85' '86'\n",
      " '155' '87' '88' '89' '90' '91' '92' '93' '94' '95' '96' '97' '98' '99'\n",
      " '100' '101' '102' '103' '104' '105' '106' '107' '108' '109' '110' '111'\n",
      " '112' '113' '114' '115' '116' '117' '118' '119' '120' '121' '122' '123'\n",
      " '124' '125' '126' '127' '128' '129' '130' '131' '132' '133' '134' '135'\n",
      " '136' '137' '138' '139' '140' '141' '142' '143' '144' '145' '146' '147'\n",
      " '148' '149' '150' '151' '152' '153' '154' '156' '157' '158' '159' '160'\n",
      " '161' '162' '163' '164' '165' '166' '167' '168' '169' '170' '171' '172'\n",
      " '173' '174' '175' '176' '177' '178' '179' '180' '181' '182' '183' '184'\n",
      " '185' '186' '187' '188' '189' '190' '191' '192' '193' '194' '195' '196'\n",
      " '197' '198' '199' '200' '201' '202' '203' '204' '205' '206' '207' '208'\n",
      " '209' '210' '211' '212' '213' '214' '215' '216' '217' '218' '219' '220'\n",
      " '221' '222' '223' '224' '225' '226' '227' '228' '229' '230' '231' '232'\n",
      " '233' '234' '235' '236' '237' '238' '239' '240' '241' '242' '243' '244'\n",
      " '245' '246' '247' '248' '249' '250' '251' '252' '253' '254' '255' '256'\n",
      " '257' '258' '259' '260' '261' '262' '263' '264' '265' '266' '267' '268'\n",
      " '269' '270' '271' '272']\n"
     ]
    }
   ],
   "source": [
    "store_numbers = Task2['Store_Number'].unique()\n",
    "print(store_numbers)\n"
   ]
  },
  {
   "cell_type": "markdown",
   "id": "ebefca0c",
   "metadata": {},
   "source": [
    "##  Comparing performance of the control store and trial store"
   ]
  },
  {
   "cell_type": "code",
   "execution_count": 103,
   "id": "b86b4152",
   "metadata": {
    "scrolled": false
   },
   "outputs": [
    {
     "name": "stdout",
     "output_type": "stream",
     "text": [
      "Comparison between Store 77 and Store 86\n",
      "Sales Difference:  -7595.35\n",
      "Sales Ratio ( 77 / 86 ):  0.28583920604399476\n",
      "\n",
      "Comparison between Store 77 and Store 88\n",
      "Sales Difference:  -13293.25\n",
      "Sales Ratio ( 77 / 88 ):  0.1861233985887683\n",
      "\n",
      "Comparison between Store 77 and Store 202\n",
      "Sales Difference:  -2951.05\n",
      "Sales Ratio ( 77 / 202 ):  0.5074235734971332\n",
      "\n",
      "Comparison between Store 77 and Store 246\n",
      "Sales Difference:  -2914.2\n",
      "Sales Ratio ( 77 / 246 ):  0.5105639716502637\n",
      "\n",
      "Comparison between Store 86 and Store 88\n",
      "Sales Difference:  -5697.9\n",
      "Sales Ratio ( 86 / 88 ):  0.6511471997306109\n",
      "\n",
      "Comparison between Store 86 and Store 202\n",
      "Sales Difference:  4644.3\n",
      "Sales Ratio ( 86 / 202 ):  1.7752063494712946\n",
      "\n",
      "Comparison between Store 86 and Store 246\n",
      "Sales Difference:  4681.150000000001\n",
      "Sales Ratio ( 86 / 246 ):  1.7861929394377078\n",
      "\n",
      "Comparison between Store 88 and Store 202\n",
      "Sales Difference:  10342.2\n",
      "Sales Ratio ( 88 / 202 ):  2.7262750269151486\n",
      "\n",
      "Comparison between Store 88 and Store 246\n",
      "Sales Difference:  10379.05\n",
      "Sales Ratio ( 88 / 246 ):  2.7431476940646937\n",
      "\n",
      "Comparison between Store 202 and Store 246\n",
      "Sales Difference:  36.850000000000364\n",
      "Sales Ratio ( 202 / 246 ):  1.0061889086695106\n",
      "\n"
     ]
    },
    {
     "data": {
      "image/png": "[encoded data removed]",
      "text/plain": [
       "<Figure size 800x600 with 1 Axes>"
      ]
     },
     "metadata": {},
     "output_type": "display_data"
    }
   ],
   "source": [
    "# Let's compare the performances of stores\n",
    "store_numbers = ['77', '86', '88', '202', '246']\n",
    "\n",
    "# Calculate the total sales for each store\n",
    "total_sales = Task2.groupby('Store_Number')['Total_Sales($)'].sum()\n",
    "\n",
    "# Compare the performances of the stores pairwise\n",
    "for i in range(len(store_numbers)):\n",
    "    for j in range(i+1, len(store_numbers)):\n",
    "        store1 = store_numbers[i]\n",
    "        store2 = store_numbers[j]\n",
    "        sales_difference = total_sales[store1] - total_sales[store2]\n",
    "        sales_ratio = total_sales[store1] / total_sales[store2]\n",
    "        print(\"Comparison between Store\", store1, \"and Store\", store2)\n",
    "        print(\"Sales Difference: \", sales_difference)\n",
    "        print(\"Sales Ratio (\", store1, \"/\", store2, \"): \", sales_ratio)\n",
    "        print()\n",
    "        \n",
    "# Create a bar chart to compare total sales of the stores\n",
    "plt.figure(figsize=(8, 6))\n",
    "plt.bar(store_numbers, total_sales[store_numbers], color=(1.0, 0.8, 0.0))\n",
    "plt.xlabel('Store Number')\n",
    "plt.ylabel('Total Sales ($)')\n",
    "plt.title('Performance Comparison of Stores based on Total Sales')\n",
    "plt.show()\n",
    "\n",
    "#From this we can conclude that the trial store are doing well than our control stores."
   ]
  },
  {
   "cell_type": "code",
   "execution_count": null,
   "id": "4ce82ab9",
   "metadata": {},
   "outputs": [],
   "source": []
  },
  {
   "cell_type": "code",
   "execution_count": 84,
   "id": "0a74472f",
   "metadata": {},
   "outputs": [],
   "source": [
    "#Checking based on monthly sales- firstly, we haveto convert date to datetime format\n",
    "Task2['Date'] = pd.to_datetime(Task2['Date'])"
   ]
  },
  {
   "cell_type": "code",
   "execution_count": 111,
   "id": "f5055b60",
   "metadata": {},
   "outputs": [
    {
     "data": {
      "image/png": "[encoded data removed]",
      "text/plain": [
       "<Figure size 640x480 with 1 Axes>"
      ]
     },
     "metadata": {},
     "output_type": "display_data"
    }
   ],
   "source": [
    "#Checking based on monthly sales\n",
    "store_numbers = ['77', '86', '88', '202', '246']\n",
    "\n",
    "\n",
    "# Convert 'Date' column to datetime format\n",
    "Task2['Date'] = pd.to_datetime(Task2['Date'])\n",
    "\n",
    "# Filter the data for the selected stores\n",
    "selected_stores = Task2[Task2['Store_Number'].isin(store_numbers)]\n",
    "\n",
    "# Group the data by store and date, and calculate the monthly sales\n",
    "monthly_sales = selected_stores.groupby(['Store_Number', pd.Grouper(key='Date', freq='M')])['Total_Sales($)'].sum().reset_index()\n",
    "\n",
    "# Get unique months for x-axis labels\n",
    "months = monthly_sales['Date'].dt.strftime('%b %Y').unique()\n",
    "\n",
    "# Create a custom colormap with varying shades of yellow\n",
    "colors = ['#FFFF00', '#FFCC00', '#FF9900', '#FF6600', '#FF3300']\n",
    "\n",
    "# Create the x-axis positions for the bars\n",
    "x_positions = np.arange(len(months))\n",
    "\n",
    "# Set the width of each bar\n",
    "bar_width = 0.15\n",
    "\n",
    "# Plot the bars for each store\n",
    "for i, store_number in enumerate(store_numbers):\n",
    "    store_data = monthly_sales[monthly_sales['Store_Number'] == store_number]\n",
    "    plt.bar(x_positions + (i * bar_width), store_data['Total_Sales($)'], bar_width, label=store_number, color=colors[i])\n",
    "\n",
    "# Set the x-axis labels and tick positions\n",
    "plt.xlabel('Date')\n",
    "plt.ylabel('Monthly Sales ($)')\n",
    "plt.title('Performance Comparison of Stores based on Monthly Sales')\n",
    "plt.xticks(x_positions, months, rotation=45)\n",
    "plt.legend(bbox_to_anchor=(1.02, 1), loc='lower left')\n",
    "plt.tight_layout()\n",
    "\n",
    "# Show the bar chart\n",
    "plt.show()\n",
    "\n",
    "#based on monthly sales the trial store that seems not be meeting up is store 77"
   ]
  },
  {
   "cell_type": "code",
   "execution_count": 93,
   "id": "bdefd31e",
   "metadata": {},
   "outputs": [],
   "source": [
    "# Export the DataFrame to an CSV file\n",
    "Task2.to_csv('C:/Users/jennifer.okeke/Downloads/DASL/TASK2.csv', index=False)"
   ]
  }
 ],
 "metadata": {
  "kernelspec": {
   "display_name": "Python 3 (ipykernel)",
   "language": "python",
   "name": "python3"
  },
  "language_info": {
   "codemirror_mode": {
    "name": "ipython",
    "version": 3
   },
   "file_extension": ".py",
   "mimetype": "text/x-python",
   "name": "python",
   "nbconvert_exporter": "python",
   "pygments_lexer": "ipython3",
   "version": "3.10.9"
  }
 },
 "nbformat": 4,
 "nbformat_minor": 5
}
